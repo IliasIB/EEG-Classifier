{
 "cells": [
  {
   "cell_type": "markdown",
   "metadata": {
    "collapsed": true
   },
   "source": [
    "# The baseline model\n",
    "## Structure\n",
    "\n",
    "The model looks like this:\n",
    "![hackathon_model.png](images/hackathon_model.png)\n",
    "\n",
    "**How do I run this experiment?**\n",
    "\n",
    "```\n",
    "# Make sure your PYTHONPATH is set correctly to the root\n",
    "\n",
    "export PYTHONPATH=/path/to/project:$PYTHONPATH\n",
    "\n",
    "python3 experiment.py\n",
    "```\n",
    "\n",
    "**How do I evaluate the model?**\n",
    "\n",
    "```\n",
    "python3 evaluation.py\n",
    "```\n"
   ]
  },
  {
   "cell_type": "code",
   "execution_count": 2,
   "metadata": {
    "pycharm": {
     "is_executing": false
    }
   },
   "outputs": [],
   "source": [
    "import pandas\n",
    "import matplotlib.pyplot as plt\n",
    "import os\n",
    "root = os.getcwd()"
   ]
  },
  {
   "cell_type": "markdown",
   "metadata": {},
   "source": [
    "## Training\n",
    "\n",
    "We trained for 50 epochs and selected the best model according to our validation loss:"
   ]
  },
  {
   "cell_type": "code",
   "execution_count": 3,
   "metadata": {
    "pycharm": {
     "is_executing": false
    }
   },
   "outputs": [
    {
     "data": {
      "text/plain": "    epoch       acc      loss   val_acc  val_loss\n0       1  0.750483  0.512649  0.742450  0.520846\n1       2  0.759915  0.497099  0.748242  0.513150\n2       3  0.765551  0.488007  0.752369  0.508032\n3       4  0.769075  0.482018  0.755886  0.504403\n4       5  0.771747  0.477758  0.757613  0.501671\n5       6  0.773984  0.474547  0.758708  0.499515\n6       7  0.775702  0.472014  0.759971  0.497751\n7       8  0.776942  0.469943  0.761361  0.496268\n8       9  0.777975  0.468201  0.762498  0.494994\n9      10  0.778769  0.466703  0.763636  0.493881\n10     11  0.779683  0.465394  0.764478  0.492896\n11     12  0.780541  0.464233  0.765194  0.492016\n12     13  0.781270  0.463193  0.766078  0.491222\n13     14  0.781823  0.462252  0.766710  0.490501\n14     15  0.782398  0.461394  0.766710  0.489842\n15     16  0.782795  0.460607  0.767216  0.489236\n16     17  0.783244  0.459881  0.767932  0.488676\n17     18  0.783497  0.459208  0.768353  0.488157\n18     19  0.783809  0.458581  0.768479  0.487673\n19     20  0.784145  0.457996  0.768774  0.487222\n20     21  0.784475  0.457447  0.769448  0.486798\n21     22  0.784762  0.456932  0.769995  0.486400\n22     23  0.784957  0.456445  0.770543  0.486025\n23     24  0.785244  0.455986  0.770838  0.485671\n24     25  0.785533  0.455550  0.771469  0.485336\n25     26  0.785784  0.455137  0.771259  0.485018\n26     27  0.785984  0.454744  0.771427  0.484716\n27     28  0.786258  0.454369  0.771806  0.484428\n28     29  0.786372  0.454011  0.771975  0.484154\n29     30  0.786593  0.453669  0.772354  0.483892\n30     31  0.786740  0.453342  0.772817  0.483641\n31     32  0.786850  0.453029  0.772965  0.483401\n32     33  0.787070  0.452727  0.773238  0.483171\n33     34  0.787241  0.452438  0.773070  0.482950\n34     35  0.787353  0.452160  0.773449  0.482737\n35     36  0.787500  0.451891  0.773912  0.482533\n36     37  0.787685  0.451633  0.774081  0.482336\n37     38  0.787822  0.451383  0.774502  0.482146\n38     39  0.788009  0.451142  0.774670  0.481962\n39     40  0.788173  0.450909  0.774965  0.481785\n40     41  0.788267  0.450683  0.775176  0.481614\n41     42  0.788510  0.450465  0.775344  0.481448\n42     43  0.788641  0.450253  0.775471  0.481287\n43     44  0.788820  0.450048  0.775681  0.481132\n44     45  0.788865  0.449848  0.775808  0.480981\n45     46  0.788952  0.449655  0.775723  0.480834\n46     47  0.789081  0.449466  0.775850  0.480692\n47     48  0.789175  0.449283  0.776271  0.480554\n48     49  0.789212  0.449105  0.776439  0.480420",
      "text/html": "<div>\n<style scoped>\n    .dataframe tbody tr th:only-of-type {\n        vertical-align: middle;\n    }\n\n    .dataframe tbody tr th {\n        vertical-align: top;\n    }\n\n    .dataframe thead th {\n        text-align: right;\n    }\n</style>\n<table border=\"1\" class=\"dataframe\">\n  <thead>\n    <tr style=\"text-align: right;\">\n      <th></th>\n      <th>epoch</th>\n      <th>acc</th>\n      <th>loss</th>\n      <th>val_acc</th>\n      <th>val_loss</th>\n    </tr>\n  </thead>\n  <tbody>\n    <tr>\n      <td>0</td>\n      <td>1</td>\n      <td>0.750483</td>\n      <td>0.512649</td>\n      <td>0.742450</td>\n      <td>0.520846</td>\n    </tr>\n    <tr>\n      <td>1</td>\n      <td>2</td>\n      <td>0.759915</td>\n      <td>0.497099</td>\n      <td>0.748242</td>\n      <td>0.513150</td>\n    </tr>\n    <tr>\n      <td>2</td>\n      <td>3</td>\n      <td>0.765551</td>\n      <td>0.488007</td>\n      <td>0.752369</td>\n      <td>0.508032</td>\n    </tr>\n    <tr>\n      <td>3</td>\n      <td>4</td>\n      <td>0.769075</td>\n      <td>0.482018</td>\n      <td>0.755886</td>\n      <td>0.504403</td>\n    </tr>\n    <tr>\n      <td>4</td>\n      <td>5</td>\n      <td>0.771747</td>\n      <td>0.477758</td>\n      <td>0.757613</td>\n      <td>0.501671</td>\n    </tr>\n    <tr>\n      <td>5</td>\n      <td>6</td>\n      <td>0.773984</td>\n      <td>0.474547</td>\n      <td>0.758708</td>\n      <td>0.499515</td>\n    </tr>\n    <tr>\n      <td>6</td>\n      <td>7</td>\n      <td>0.775702</td>\n      <td>0.472014</td>\n      <td>0.759971</td>\n      <td>0.497751</td>\n    </tr>\n    <tr>\n      <td>7</td>\n      <td>8</td>\n      <td>0.776942</td>\n      <td>0.469943</td>\n      <td>0.761361</td>\n      <td>0.496268</td>\n    </tr>\n    <tr>\n      <td>8</td>\n      <td>9</td>\n      <td>0.777975</td>\n      <td>0.468201</td>\n      <td>0.762498</td>\n      <td>0.494994</td>\n    </tr>\n    <tr>\n      <td>9</td>\n      <td>10</td>\n      <td>0.778769</td>\n      <td>0.466703</td>\n      <td>0.763636</td>\n      <td>0.493881</td>\n    </tr>\n    <tr>\n      <td>10</td>\n      <td>11</td>\n      <td>0.779683</td>\n      <td>0.465394</td>\n      <td>0.764478</td>\n      <td>0.492896</td>\n    </tr>\n    <tr>\n      <td>11</td>\n      <td>12</td>\n      <td>0.780541</td>\n      <td>0.464233</td>\n      <td>0.765194</td>\n      <td>0.492016</td>\n    </tr>\n    <tr>\n      <td>12</td>\n      <td>13</td>\n      <td>0.781270</td>\n      <td>0.463193</td>\n      <td>0.766078</td>\n      <td>0.491222</td>\n    </tr>\n    <tr>\n      <td>13</td>\n      <td>14</td>\n      <td>0.781823</td>\n      <td>0.462252</td>\n      <td>0.766710</td>\n      <td>0.490501</td>\n    </tr>\n    <tr>\n      <td>14</td>\n      <td>15</td>\n      <td>0.782398</td>\n      <td>0.461394</td>\n      <td>0.766710</td>\n      <td>0.489842</td>\n    </tr>\n    <tr>\n      <td>15</td>\n      <td>16</td>\n      <td>0.782795</td>\n      <td>0.460607</td>\n      <td>0.767216</td>\n      <td>0.489236</td>\n    </tr>\n    <tr>\n      <td>16</td>\n      <td>17</td>\n      <td>0.783244</td>\n      <td>0.459881</td>\n      <td>0.767932</td>\n      <td>0.488676</td>\n    </tr>\n    <tr>\n      <td>17</td>\n      <td>18</td>\n      <td>0.783497</td>\n      <td>0.459208</td>\n      <td>0.768353</td>\n      <td>0.488157</td>\n    </tr>\n    <tr>\n      <td>18</td>\n      <td>19</td>\n      <td>0.783809</td>\n      <td>0.458581</td>\n      <td>0.768479</td>\n      <td>0.487673</td>\n    </tr>\n    <tr>\n      <td>19</td>\n      <td>20</td>\n      <td>0.784145</td>\n      <td>0.457996</td>\n      <td>0.768774</td>\n      <td>0.487222</td>\n    </tr>\n    <tr>\n      <td>20</td>\n      <td>21</td>\n      <td>0.784475</td>\n      <td>0.457447</td>\n      <td>0.769448</td>\n      <td>0.486798</td>\n    </tr>\n    <tr>\n      <td>21</td>\n      <td>22</td>\n      <td>0.784762</td>\n      <td>0.456932</td>\n      <td>0.769995</td>\n      <td>0.486400</td>\n    </tr>\n    <tr>\n      <td>22</td>\n      <td>23</td>\n      <td>0.784957</td>\n      <td>0.456445</td>\n      <td>0.770543</td>\n      <td>0.486025</td>\n    </tr>\n    <tr>\n      <td>23</td>\n      <td>24</td>\n      <td>0.785244</td>\n      <td>0.455986</td>\n      <td>0.770838</td>\n      <td>0.485671</td>\n    </tr>\n    <tr>\n      <td>24</td>\n      <td>25</td>\n      <td>0.785533</td>\n      <td>0.455550</td>\n      <td>0.771469</td>\n      <td>0.485336</td>\n    </tr>\n    <tr>\n      <td>25</td>\n      <td>26</td>\n      <td>0.785784</td>\n      <td>0.455137</td>\n      <td>0.771259</td>\n      <td>0.485018</td>\n    </tr>\n    <tr>\n      <td>26</td>\n      <td>27</td>\n      <td>0.785984</td>\n      <td>0.454744</td>\n      <td>0.771427</td>\n      <td>0.484716</td>\n    </tr>\n    <tr>\n      <td>27</td>\n      <td>28</td>\n      <td>0.786258</td>\n      <td>0.454369</td>\n      <td>0.771806</td>\n      <td>0.484428</td>\n    </tr>\n    <tr>\n      <td>28</td>\n      <td>29</td>\n      <td>0.786372</td>\n      <td>0.454011</td>\n      <td>0.771975</td>\n      <td>0.484154</td>\n    </tr>\n    <tr>\n      <td>29</td>\n      <td>30</td>\n      <td>0.786593</td>\n      <td>0.453669</td>\n      <td>0.772354</td>\n      <td>0.483892</td>\n    </tr>\n    <tr>\n      <td>30</td>\n      <td>31</td>\n      <td>0.786740</td>\n      <td>0.453342</td>\n      <td>0.772817</td>\n      <td>0.483641</td>\n    </tr>\n    <tr>\n      <td>31</td>\n      <td>32</td>\n      <td>0.786850</td>\n      <td>0.453029</td>\n      <td>0.772965</td>\n      <td>0.483401</td>\n    </tr>\n    <tr>\n      <td>32</td>\n      <td>33</td>\n      <td>0.787070</td>\n      <td>0.452727</td>\n      <td>0.773238</td>\n      <td>0.483171</td>\n    </tr>\n    <tr>\n      <td>33</td>\n      <td>34</td>\n      <td>0.787241</td>\n      <td>0.452438</td>\n      <td>0.773070</td>\n      <td>0.482950</td>\n    </tr>\n    <tr>\n      <td>34</td>\n      <td>35</td>\n      <td>0.787353</td>\n      <td>0.452160</td>\n      <td>0.773449</td>\n      <td>0.482737</td>\n    </tr>\n    <tr>\n      <td>35</td>\n      <td>36</td>\n      <td>0.787500</td>\n      <td>0.451891</td>\n      <td>0.773912</td>\n      <td>0.482533</td>\n    </tr>\n    <tr>\n      <td>36</td>\n      <td>37</td>\n      <td>0.787685</td>\n      <td>0.451633</td>\n      <td>0.774081</td>\n      <td>0.482336</td>\n    </tr>\n    <tr>\n      <td>37</td>\n      <td>38</td>\n      <td>0.787822</td>\n      <td>0.451383</td>\n      <td>0.774502</td>\n      <td>0.482146</td>\n    </tr>\n    <tr>\n      <td>38</td>\n      <td>39</td>\n      <td>0.788009</td>\n      <td>0.451142</td>\n      <td>0.774670</td>\n      <td>0.481962</td>\n    </tr>\n    <tr>\n      <td>39</td>\n      <td>40</td>\n      <td>0.788173</td>\n      <td>0.450909</td>\n      <td>0.774965</td>\n      <td>0.481785</td>\n    </tr>\n    <tr>\n      <td>40</td>\n      <td>41</td>\n      <td>0.788267</td>\n      <td>0.450683</td>\n      <td>0.775176</td>\n      <td>0.481614</td>\n    </tr>\n    <tr>\n      <td>41</td>\n      <td>42</td>\n      <td>0.788510</td>\n      <td>0.450465</td>\n      <td>0.775344</td>\n      <td>0.481448</td>\n    </tr>\n    <tr>\n      <td>42</td>\n      <td>43</td>\n      <td>0.788641</td>\n      <td>0.450253</td>\n      <td>0.775471</td>\n      <td>0.481287</td>\n    </tr>\n    <tr>\n      <td>43</td>\n      <td>44</td>\n      <td>0.788820</td>\n      <td>0.450048</td>\n      <td>0.775681</td>\n      <td>0.481132</td>\n    </tr>\n    <tr>\n      <td>44</td>\n      <td>45</td>\n      <td>0.788865</td>\n      <td>0.449848</td>\n      <td>0.775808</td>\n      <td>0.480981</td>\n    </tr>\n    <tr>\n      <td>45</td>\n      <td>46</td>\n      <td>0.788952</td>\n      <td>0.449655</td>\n      <td>0.775723</td>\n      <td>0.480834</td>\n    </tr>\n    <tr>\n      <td>46</td>\n      <td>47</td>\n      <td>0.789081</td>\n      <td>0.449466</td>\n      <td>0.775850</td>\n      <td>0.480692</td>\n    </tr>\n    <tr>\n      <td>47</td>\n      <td>48</td>\n      <td>0.789175</td>\n      <td>0.449283</td>\n      <td>0.776271</td>\n      <td>0.480554</td>\n    </tr>\n    <tr>\n      <td>48</td>\n      <td>49</td>\n      <td>0.789212</td>\n      <td>0.449105</td>\n      <td>0.776439</td>\n      <td>0.480420</td>\n    </tr>\n  </tbody>\n</table>\n</div>"
     },
     "metadata": {},
     "output_type": "execute_result",
     "execution_count": 3
    }
   ],
   "source": [
    "training_df = pandas.read_csv(os.path.join(root, \"output\", \"training.log\"))\n",
    "training_df"
   ]
  },
  {
   "cell_type": "markdown",
   "metadata": {},
   "source": [
    "### Training accuracy"
   ]
  },
  {
   "cell_type": "code",
   "execution_count": 4,
   "metadata": {
    "pycharm": {
     "is_executing": false
    }
   },
   "outputs": [
    {
     "data": {
      "text/plain": "<Figure size 432x288 with 0 Axes>"
     },
     "metadata": {},
     "output_type": "display_data"
    },
    {
     "data": {
      "text/plain": "<Figure size 432x288 with 1 Axes>",
      "image/png": "[encoded data removed]"
     },
     "metadata": {
      "needs_background": "light"
     },
     "output_type": "display_data"
    }
   ],
   "source": [
    "training_acc_columns = [x for x in list(training_df.columns) if \"acc\" in x]\n",
    "plt.figure()\n",
    "training_df[training_acc_columns].plot()\n",
    "plt.grid(True)\n",
    "plt.title(\"Baseline model with 1 filter\")\n",
    "plt.xlabel(\"Epochs\")\n",
    "plt.ylabel(\"Accuracy (%)\")\n",
    "\n",
    "plt.ylim([0.5,1.0])\n",
    "\n",
    "plt.show()"
   ]
  },
  {
   "cell_type": "markdown",
   "metadata": {},
   "source": [
    "### Training loss"
   ]
  },
  {
   "cell_type": "code",
   "execution_count": 9,
   "metadata": {
    "pycharm": {
     "is_executing": false
    }
   },
   "outputs": [
    {
     "data": {
      "text/plain": "<Figure size 432x288 with 0 Axes>"
     },
     "metadata": {},
     "output_type": "display_data"
    },
    {
     "data": {
      "text/plain": "<Figure size 432x288 with 1 Axes>",
      "image/png": "[encoded data removed]"
     },
     "metadata": {
      "needs_background": "light"
     },
     "output_type": "display_data"
    }
   ],
   "source": [
    "training_loss_columns = [x for x in list(training_df.columns) if \"loss\" in x]\n",
    "plt.figure()\n",
    "training_df[training_loss_columns].plot()\n",
    "plt.grid(True)\n",
    "plt.xlabel(\"Epochs\")\n",
    "plt.ylabel(\"Loss\")\n",
    "\n",
    "plt.ylim([0.0,1.0])\n",
    "\n",
    "plt.show()"
   ]
  },
  {
   "cell_type": "markdown",
   "metadata": {},
   "source": [
    "## Evaluation"
   ]
  },
  {
   "cell_type": "code",
   "execution_count": 6,
   "metadata": {
    "pycharm": {
     "is_executing": false
    }
   },
   "outputs": [],
   "source": [
    "with open(os.path.join(root, \"output\", \"eval.json\")) as fp:\n",
    "    df = pandas.read_json(fp).T"
   ]
  },
  {
   "cell_type": "markdown",
   "metadata": {},
   "source": [
    "Each point in the boxplot is the accuracy for one subject"
   ]
  },
  {
   "cell_type": "code",
   "execution_count": 7,
   "metadata": {
    "pycharm": {
     "is_executing": false
    }
   },
   "outputs": [
    {
     "data": {
      "text/plain": "<Figure size 432x288 with 1 Axes>",
      "image/png": "[encoded data removed]"
     },
     "metadata": {
      "needs_background": "light"
     },
     "output_type": "display_data"
    }
   ],
   "source": [
    "plt.figure()\n",
    "df[[\"acc\"]].boxplot()\n",
    "plt.ylim([0.5,1])\n",
    "plt.ylabel(\"Accuracy\")\n",
    "plt.title(\"Accuracy on the test set\")\n",
    "plt.xticks(plt.xticks()[0], [\"Baseline model\"])\n",
    "plt.show()"
   ]
  },
  {
   "cell_type": "code",
   "execution_count": 7,
   "metadata": {
    "pycharm": {
     "is_executing": false
    }
   },
   "outputs": [],
   "source": []
  }
 ],
 "metadata": {
  "kernelspec": {
   "name": "python3",
   "language": "python",
   "display_name": "Python 3"
  },
  "language_info": {
   "codemirror_mode": {
    "name": "ipython",
    "version": 3
   },
   "file_extension": ".py",
   "mimetype": "text/x-python",
   "name": "python",
   "nbconvert_exporter": "python",
   "pygments_lexer": "ipython3",
   "version": "3.6.8"
  },
  "pycharm": {
   "stem_cell": {
    "cell_type": "raw",
    "source": [],
    "metadata": {
     "collapsed": false
    }
   }
  }
 },
 "nbformat": 4,
 "nbformat_minor": 1
}