{
 "cells": [
  {
   "cell_type": "markdown",
   "metadata": {
    "collapsed": true
   },
   "source": [
    "# The baseline model\n",
    "## Structure\n",
    "\n",
    "The model looks like this:\n",
    "![hackathon_model.png](images/hackathon_model.png)\n",
    "\n",
    "**How do I run this experiment?**\n",
    "\n",
    "```\n",
    "# Make sure your PYTHONPATH is set correctly to the root\n",
    "\n",
    "export PYTHONPATH=/path/to/project:$PYTHONPATH\n",
    "\n",
    "python3 experiment.py\n",
    "```\n",
    "\n",
    "**How do I evaluate the model?**\n",
    "\n",
    "```\n",
    "python3 evaluation.py\n",
    "```\n"
   ]
  },
  {
   "cell_type": "code",
   "execution_count": 1,
   "metadata": {},
   "outputs": [],
   "source": [
    "import pandas\n",
    "import matplotlib.pyplot as plt\n",
    "import os\n",
    "root = os.getcwd()"
   ]
  },
  {
   "cell_type": "markdown",
   "metadata": {},
   "source": [
    "## Training\n",
    "\n",
    "We trained for 50 epochs and selected the best model according to our validation loss:"
   ]
  },
  {
   "cell_type": "code",
   "execution_count": 2,
   "metadata": {},
   "outputs": [
    {
     "data": {
      "text/plain": "    epoch       acc      loss   val_acc  val_loss\n0       1  0.623789  0.647563  0.629708  0.643968\n1       2  0.628375  0.644117  0.632054  0.641899\n2       3  0.630921  0.642211  0.633978  0.640616\n3       4  0.632635  0.640973  0.635047  0.639751\n4       5  0.633824  0.640085  0.636288  0.639122\n5       6  0.634710  0.639405  0.636382  0.638639\n6       7  0.635419  0.638859  0.636830  0.638253\n7       8  0.636023  0.638405  0.637465  0.637936\n8       9  0.636529  0.638021  0.637746  0.637670\n9      10  0.636956  0.637688  0.637862  0.637443\n10     11  0.637285  0.637396  0.637988  0.637247\n11     12  0.637563  0.637137  0.638273  0.637075\n12     13  0.637797  0.636905  0.638519  0.636924\n13     14  0.638114  0.636695  0.638667  0.636790\n14     15  0.638373  0.636505  0.638793  0.636669\n15     16  0.638600  0.636331  0.638692  0.636561",
      "text/html": "<div>\n<style scoped>\n    .dataframe tbody tr th:only-of-type {\n        vertical-align: middle;\n    }\n\n    .dataframe tbody tr th {\n        vertical-align: top;\n    }\n\n    .dataframe thead th {\n        text-align: right;\n    }\n</style>\n<table border=\"1\" class=\"dataframe\">\n  <thead>\n    <tr style=\"text-align: right;\">\n      <th></th>\n      <th>epoch</th>\n      <th>acc</th>\n      <th>loss</th>\n      <th>val_acc</th>\n      <th>val_loss</th>\n    </tr>\n  </thead>\n  <tbody>\n    <tr>\n      <td>0</td>\n      <td>1</td>\n      <td>0.623789</td>\n      <td>0.647563</td>\n      <td>0.629708</td>\n      <td>0.643968</td>\n    </tr>\n    <tr>\n      <td>1</td>\n      <td>2</td>\n      <td>0.628375</td>\n      <td>0.644117</td>\n      <td>0.632054</td>\n      <td>0.641899</td>\n    </tr>\n    <tr>\n      <td>2</td>\n      <td>3</td>\n      <td>0.630921</td>\n      <td>0.642211</td>\n      <td>0.633978</td>\n      <td>0.640616</td>\n    </tr>\n    <tr>\n      <td>3</td>\n      <td>4</td>\n      <td>0.632635</td>\n      <td>0.640973</td>\n      <td>0.635047</td>\n      <td>0.639751</td>\n    </tr>\n    <tr>\n      <td>4</td>\n      <td>5</td>\n      <td>0.633824</td>\n      <td>0.640085</td>\n      <td>0.636288</td>\n      <td>0.639122</td>\n    </tr>\n    <tr>\n      <td>5</td>\n      <td>6</td>\n      <td>0.634710</td>\n      <td>0.639405</td>\n      <td>0.636382</td>\n      <td>0.638639</td>\n    </tr>\n    <tr>\n      <td>6</td>\n      <td>7</td>\n      <td>0.635419</td>\n      <td>0.638859</td>\n      <td>0.636830</td>\n      <td>0.638253</td>\n    </tr>\n    <tr>\n      <td>7</td>\n      <td>8</td>\n      <td>0.636023</td>\n      <td>0.638405</td>\n      <td>0.637465</td>\n      <td>0.637936</td>\n    </tr>\n    <tr>\n      <td>8</td>\n      <td>9</td>\n      <td>0.636529</td>\n      <td>0.638021</td>\n      <td>0.637746</td>\n      <td>0.637670</td>\n    </tr>\n    <tr>\n      <td>9</td>\n      <td>10</td>\n      <td>0.636956</td>\n      <td>0.637688</td>\n      <td>0.637862</td>\n      <td>0.637443</td>\n    </tr>\n    <tr>\n      <td>10</td>\n      <td>11</td>\n      <td>0.637285</td>\n      <td>0.637396</td>\n      <td>0.637988</td>\n      <td>0.637247</td>\n    </tr>\n    <tr>\n      <td>11</td>\n      <td>12</td>\n      <td>0.637563</td>\n      <td>0.637137</td>\n      <td>0.638273</td>\n      <td>0.637075</td>\n    </tr>\n    <tr>\n      <td>12</td>\n      <td>13</td>\n      <td>0.637797</td>\n      <td>0.636905</td>\n      <td>0.638519</td>\n      <td>0.636924</td>\n    </tr>\n    <tr>\n      <td>13</td>\n      <td>14</td>\n      <td>0.638114</td>\n      <td>0.636695</td>\n      <td>0.638667</td>\n      <td>0.636790</td>\n    </tr>\n    <tr>\n      <td>14</td>\n      <td>15</td>\n      <td>0.638373</td>\n      <td>0.636505</td>\n      <td>0.638793</td>\n      <td>0.636669</td>\n    </tr>\n    <tr>\n      <td>15</td>\n      <td>16</td>\n      <td>0.638600</td>\n      <td>0.636331</td>\n      <td>0.638692</td>\n      <td>0.636561</td>\n    </tr>\n  </tbody>\n</table>\n</div>"
     },
     "execution_count": 2,
     "metadata": {},
     "output_type": "execute_result"
    }
   ],
   "source": [
    "training_df = pandas.read_csv(os.path.join(root, \"output\", \"training.log\"))\n",
    "training_df"
   ]
  },
  {
   "cell_type": "markdown",
   "metadata": {},
   "source": [
    "### Training accuracy"
   ]
  },
  {
   "cell_type": "code",
   "execution_count": 3,
   "metadata": {},
   "outputs": [
    {
     "data": {
      "text/plain": "<Figure size 432x288 with 0 Axes>"
     },
     "metadata": {},
     "output_type": "display_data"
    },
    {
     "data": {
      "text/plain": "<Figure size 432x288 with 1 Axes>",
      "image/png": "[encoded data removed]"
     },
     "metadata": {
      "needs_background": "light"
     },
     "output_type": "display_data"
    }
   ],
   "source": [
    "training_acc_columns = [x for x in list(training_df.columns) if \"acc\" in x]\n",
    "plt.figure()\n",
    "training_df[training_acc_columns].plot()\n",
    "plt.grid(True)\n",
    "plt.title(\"Sequence LSTM model with 1 filter\")\n",
    "plt.xlabel(\"Epochs\")\n",
    "plt.ylabel(\"Accuracy (%)\")\n",
    "\n",
    "plt.ylim([0.5,1.0])\n",
    "\n",
    "plt.show()"
   ]
  },
  {
   "cell_type": "markdown",
   "metadata": {},
   "source": [
    "### Training loss"
   ]
  },
  {
   "cell_type": "code",
   "execution_count": 4,
   "metadata": {},
   "outputs": [
    {
     "data": {
      "text/plain": "<Figure size 432x288 with 0 Axes>"
     },
     "metadata": {},
     "output_type": "display_data"
    },
    {
     "data": {
      "text/plain": "<Figure size 432x288 with 1 Axes>",
      "image/png": "[encoded data removed]"
     },
     "metadata": {
      "needs_background": "light"
     },
     "output_type": "display_data"
    }
   ],
   "source": [
    "training_loss_columns = [x for x in list(training_df.columns) if \"loss\" in x]\n",
    "plt.figure()\n",
    "training_df[training_loss_columns].plot()\n",
    "plt.grid(True)\n",
    "plt.xlabel(\"Epochs\")\n",
    "plt.ylabel(\"Loss\")\n",
    "\n",
    "plt.ylim([0.0,1.0])\n",
    "\n",
    "plt.show()"
   ]
  },
  {
   "cell_type": "markdown",
   "metadata": {},
   "source": [
    "## Evaluation"
   ]
  },
  {
   "cell_type": "code",
   "execution_count": 5,
   "metadata": {},
   "outputs": [],
   "source": [
    "with open(os.path.join(root, \"output\", \"two.json\")) as fp:\n",
    "    df1 = pandas.read_json(fp).T\n",
    "with open(os.path.join(root, \"output\", \"five.json\")) as fp:\n",
    "    df2 = pandas.read_json(fp).T\n",
    "with open(os.path.join(root, \"output\", \"ten.json\")) as fp:\n",
    "    df3 = pandas.read_json(fp).T"
   ]
  },
  {
   "cell_type": "markdown",
   "metadata": {},
   "source": [
    "Each point in the boxplot is the accuracy for one subject"
   ]
  },
  {
   "cell_type": "code",
   "execution_count": 6,
   "metadata": {},
   "outputs": [
    {
     "data": {
      "text/plain": "<Figure size 432x288 with 1 Axes>",
      "image/png": "[encoded data removed]"
     },
     "metadata": {
      "needs_background": "light"
     },
     "output_type": "display_data"
    }
   ],
   "source": [
    "plt.figure()\n",
    "plt.grid(color='black', linestyle=':', linewidth=1)\n",
    "plt.boxplot([df1[[\"acc\"]].T.values[0], df2[[\"acc\"]].T.values[0], df3[[\"acc\"]].T.values[0]])\n",
    "plt.ylim([0.5,1])\n",
    "plt.ylabel(\"Accuracy\")\n",
    "plt.xlabel(\"Input length (seconds)\")\n",
    "plt.xticks([1, 2, 3], [\"2\", \"5\", \"10\"])\n",
    "plt.show()"
   ]
  },
  {
   "cell_type": "code",
   "execution_count": 6,
   "metadata": {},
   "outputs": [],
   "source": []
  }
 ],
 "metadata": {
  "kernelspec": {
   "display_name": "Python 3",
   "language": "python",
   "name": "python3"
  },
  "language_info": {
   "codemirror_mode": {
    "name": "ipython",
    "version": 3
   },
   "file_extension": ".py",
   "mimetype": "text/x-python",
   "name": "python",
   "nbconvert_exporter": "python",
   "pygments_lexer": "ipython3",
   "version": "3.7.5"
  }
 },
 "nbformat": 4,
 "nbformat_minor": 1
}