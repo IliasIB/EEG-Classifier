{
 "cells": [
  {
   "cell_type": "markdown",
   "metadata": {
    "collapsed": true
   },
   "source": [
    "# The baseline model\n",
    "## Structure\n",
    "\n",
    "The model looks like this:\n",
    "![hackathon_model.png](images/hackathon_model.png)\n",
    "\n",
    "**How do I run this experiment?**\n",
    "\n",
    "```\n",
    "# Make sure your PYTHONPATH is set correctly to the root\n",
    "\n",
    "export PYTHONPATH=/path/to/project:$PYTHONPATH\n",
    "\n",
    "python3 experiment.py\n",
    "```\n",
    "\n",
    "**How do I evaluate the model?**\n",
    "\n",
    "```\n",
    "python3 evaluation.py\n",
    "```\n"
   ]
  },
  {
   "cell_type": "code",
   "execution_count": 13,
   "metadata": {
    "pycharm": {
     "is_executing": false
    }
   },
   "outputs": [],
   "source": [
    "import pandas\n",
    "import matplotlib.pyplot as plt\n",
    "import os\n",
    "root = os.getcwd()"
   ]
  },
  {
   "cell_type": "markdown",
   "metadata": {},
   "source": [
    "## Training\n",
    "\n",
    "We trained for 50 epochs and selected the best model according to our validation loss:"
   ]
  },
  {
   "cell_type": "code",
   "execution_count": 14,
   "metadata": {
    "pycharm": {
     "is_executing": false
    }
   },
   "outputs": [
    {
     "data": {
      "text/plain": "   epoch       acc      loss   val_acc  val_loss\n0      1  0.586445  0.679067  0.570469  0.684090\n1      2  0.574102  0.682228  0.566289  0.681760\n2      3  0.568750  0.681581  0.556953  0.685324\n3      4  0.545664  0.685801  0.557734  0.683159",
      "text/html": "<div>\n<style scoped>\n    .dataframe tbody tr th:only-of-type {\n        vertical-align: middle;\n    }\n\n    .dataframe tbody tr th {\n        vertical-align: top;\n    }\n\n    .dataframe thead th {\n        text-align: right;\n    }\n</style>\n<table border=\"1\" class=\"dataframe\">\n  <thead>\n    <tr style=\"text-align: right;\">\n      <th></th>\n      <th>epoch</th>\n      <th>acc</th>\n      <th>loss</th>\n      <th>val_acc</th>\n      <th>val_loss</th>\n    </tr>\n  </thead>\n  <tbody>\n    <tr>\n      <td>0</td>\n      <td>1</td>\n      <td>0.586445</td>\n      <td>0.679067</td>\n      <td>0.570469</td>\n      <td>0.684090</td>\n    </tr>\n    <tr>\n      <td>1</td>\n      <td>2</td>\n      <td>0.574102</td>\n      <td>0.682228</td>\n      <td>0.566289</td>\n      <td>0.681760</td>\n    </tr>\n    <tr>\n      <td>2</td>\n      <td>3</td>\n      <td>0.568750</td>\n      <td>0.681581</td>\n      <td>0.556953</td>\n      <td>0.685324</td>\n    </tr>\n    <tr>\n      <td>3</td>\n      <td>4</td>\n      <td>0.545664</td>\n      <td>0.685801</td>\n      <td>0.557734</td>\n      <td>0.683159</td>\n    </tr>\n  </tbody>\n</table>\n</div>"
     },
     "metadata": {},
     "output_type": "execute_result",
     "execution_count": 14
    }
   ],
   "source": [
    "training_df = pandas.read_csv(os.path.join(root, \"output\", \"training.log\"))\n",
    "training_df"
   ]
  },
  {
   "cell_type": "markdown",
   "metadata": {},
   "source": [
    "### Training accuracy"
   ]
  },
  {
   "cell_type": "code",
   "execution_count": 15,
   "metadata": {
    "pycharm": {
     "is_executing": false
    }
   },
   "outputs": [
    {
     "data": {
      "text/plain": "<Figure size 432x288 with 0 Axes>"
     },
     "metadata": {},
     "output_type": "display_data"
    },
    {
     "data": {
      "text/plain": "<Figure size 432x288 with 1 Axes>",
      "image/png": "[encoded data removed]"
     },
     "metadata": {
      "needs_background": "light"
     },
     "output_type": "display_data"
    }
   ],
   "source": [
    "training_acc_columns = [x for x in list(training_df.columns) if \"acc\" in x]\n",
    "plt.figure()\n",
    "training_df[training_acc_columns].plot()\n",
    "plt.grid(True)\n",
    "plt.title(\"Baseline model with 1 filter\")\n",
    "plt.xlabel(\"Epochs\")\n",
    "plt.ylabel(\"Accuracy (%)\")\n",
    "\n",
    "plt.ylim([0.5,1.0])\n",
    "\n",
    "plt.show()"
   ]
  },
  {
   "cell_type": "markdown",
   "metadata": {},
   "source": [
    "### Training loss"
   ]
  },
  {
   "cell_type": "code",
   "execution_count": 16,
   "metadata": {
    "pycharm": {
     "is_executing": false
    }
   },
   "outputs": [
    {
     "data": {
      "text/plain": "<Figure size 432x288 with 0 Axes>"
     },
     "metadata": {},
     "output_type": "display_data"
    },
    {
     "data": {
      "text/plain": "<Figure size 432x288 with 1 Axes>",
      "image/png": "[encoded data removed]"
     },
     "metadata": {
      "needs_background": "light"
     },
     "output_type": "display_data"
    }
   ],
   "source": [
    "training_loss_columns = [x for x in list(training_df.columns) if \"loss\" in x]\n",
    "plt.figure()\n",
    "training_df[training_loss_columns].plot()\n",
    "plt.grid(True)\n",
    "plt.xlabel(\"Epochs\")\n",
    "plt.ylabel(\"Loss\")\n",
    "\n",
    "plt.ylim([0.0,1.0])\n",
    "\n",
    "plt.show()"
   ]
  },
  {
   "cell_type": "markdown",
   "metadata": {},
   "source": [
    "## Evaluation"
   ]
  },
  {
   "cell_type": "code",
   "execution_count": 17,
   "metadata": {
    "pycharm": {
     "is_executing": false
    }
   },
   "outputs": [],
   "source": [
    "with open(os.path.join(root, \"output\", \"eval.json\")) as fp:\n",
    "    df = pandas.read_json(fp).T"
   ]
  },
  {
   "cell_type": "markdown",
   "metadata": {},
   "source": [
    "Each point in the boxplot is the accuracy for one subject"
   ]
  },
  {
   "cell_type": "code",
   "execution_count": 18,
   "metadata": {
    "pycharm": {
     "is_executing": false
    }
   },
   "outputs": [
    {
     "data": {
      "text/plain": "<Figure size 432x288 with 1 Axes>",
      "image/png": "[encoded data removed]"
     },
     "metadata": {
      "needs_background": "light"
     },
     "output_type": "display_data"
    }
   ],
   "source": [
    "plt.figure()\n",
    "df[[\"acc\"]].boxplot()\n",
    "plt.ylim([0.5,1])\n",
    "plt.ylabel(\"Accuracy\")\n",
    "plt.title(\"Accuracy on the test set\")\n",
    "plt.xticks(plt.xticks()[0], [\"Baseline model\"])\n",
    "plt.show()"
   ]
  },
  {
   "cell_type": "code",
   "execution_count": 18,
   "metadata": {
    "pycharm": {
     "is_executing": false
    }
   },
   "outputs": [],
   "source": []
  }
 ],
 "metadata": {
  "kernelspec": {
   "name": "python3",
   "language": "python",
   "display_name": "Python 3"
  },
  "language_info": {
   "codemirror_mode": {
    "name": "ipython",
    "version": 3
   },
   "file_extension": ".py",
   "mimetype": "text/x-python",
   "name": "python",
   "nbconvert_exporter": "python",
   "pygments_lexer": "ipython3",
   "version": "3.6.8"
  },
  "pycharm": {
   "stem_cell": {
    "cell_type": "raw",
    "source": [],
    "metadata": {
     "collapsed": false
    }
   }
  }
 },
 "nbformat": 4,
 "nbformat_minor": 1
}