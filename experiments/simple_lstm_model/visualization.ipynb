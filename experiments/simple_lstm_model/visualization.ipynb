{
 "cells": [
  {
   "cell_type": "markdown",
   "metadata": {
    "collapsed": true
   },
   "source": [
    "# The baseline model\n",
    "## Structure\n",
    "\n",
    "The model looks like this:\n",
    "![hackathon_model.png](images/hackathon_model.png)\n",
    "\n",
    "**How do I run this experiment?**\n",
    "\n",
    "```\n",
    "# Make sure your PYTHONPATH is set correctly to the root\n",
    "\n",
    "export PYTHONPATH=/path/to/project:$PYTHONPATH\n",
    "\n",
    "python3 experiment.py\n",
    "```\n",
    "\n",
    "**How do I evaluate the model?**\n",
    "\n",
    "```\n",
    "python3 evaluation.py\n",
    "```\n"
   ]
  },
  {
   "cell_type": "code",
   "execution_count": 1,
   "metadata": {
    "pycharm": {
     "is_executing": false
    }
   },
   "outputs": [],
   "source": [
    "import pandas\n",
    "import matplotlib.pyplot as plt\n",
    "import os\n",
    "root = os.getcwd()"
   ]
  },
  {
   "cell_type": "markdown",
   "metadata": {},
   "source": [
    "## Training\n",
    "\n",
    "We trained for 50 epochs and selected the best model according to our validation loss:"
   ]
  },
  {
   "cell_type": "code",
   "execution_count": 2,
   "metadata": {
    "pycharm": {
     "is_executing": false
    }
   },
   "outputs": [
    {
     "data": {
      "text/plain": "    epoch       acc      loss   val_acc  val_loss\n0       1  0.641070  0.633153  0.642358  0.629898\n1       2  0.649891  0.624619  0.647475  0.625709\n2       3  0.656587  0.618043  0.654214  0.620287\n3       4  0.661725  0.612884  0.660826  0.615666\n4       5  0.666757  0.608069  0.666049  0.611820\n5       6  0.671545  0.603488  0.668576  0.608372\n6       7  0.675665  0.599289  0.671819  0.606088\n7       8  0.679056  0.595503  0.672788  0.605040\n8       9  0.681659  0.592155  0.672998  0.604265\n9      10  0.684468  0.589260  0.674683  0.604076\n10     11  0.686757  0.586542  0.675273  0.603984\n11     12  0.689601  0.584186  0.673714  0.603588\n12     13  0.691458  0.582191  0.675947  0.603010\n13     14  0.692965  0.580390  0.676536  0.603034\n14     15  0.694695  0.578502  0.675778  0.603691",
      "text/html": "<div>\n<style scoped>\n    .dataframe tbody tr th:only-of-type {\n        vertical-align: middle;\n    }\n\n    .dataframe tbody tr th {\n        vertical-align: top;\n    }\n\n    .dataframe thead th {\n        text-align: right;\n    }\n</style>\n<table border=\"1\" class=\"dataframe\">\n  <thead>\n    <tr style=\"text-align: right;\">\n      <th></th>\n      <th>epoch</th>\n      <th>acc</th>\n      <th>loss</th>\n      <th>val_acc</th>\n      <th>val_loss</th>\n    </tr>\n  </thead>\n  <tbody>\n    <tr>\n      <td>0</td>\n      <td>1</td>\n      <td>0.641070</td>\n      <td>0.633153</td>\n      <td>0.642358</td>\n      <td>0.629898</td>\n    </tr>\n    <tr>\n      <td>1</td>\n      <td>2</td>\n      <td>0.649891</td>\n      <td>0.624619</td>\n      <td>0.647475</td>\n      <td>0.625709</td>\n    </tr>\n    <tr>\n      <td>2</td>\n      <td>3</td>\n      <td>0.656587</td>\n      <td>0.618043</td>\n      <td>0.654214</td>\n      <td>0.620287</td>\n    </tr>\n    <tr>\n      <td>3</td>\n      <td>4</td>\n      <td>0.661725</td>\n      <td>0.612884</td>\n      <td>0.660826</td>\n      <td>0.615666</td>\n    </tr>\n    <tr>\n      <td>4</td>\n      <td>5</td>\n      <td>0.666757</td>\n      <td>0.608069</td>\n      <td>0.666049</td>\n      <td>0.611820</td>\n    </tr>\n    <tr>\n      <td>5</td>\n      <td>6</td>\n      <td>0.671545</td>\n      <td>0.603488</td>\n      <td>0.668576</td>\n      <td>0.608372</td>\n    </tr>\n    <tr>\n      <td>6</td>\n      <td>7</td>\n      <td>0.675665</td>\n      <td>0.599289</td>\n      <td>0.671819</td>\n      <td>0.606088</td>\n    </tr>\n    <tr>\n      <td>7</td>\n      <td>8</td>\n      <td>0.679056</td>\n      <td>0.595503</td>\n      <td>0.672788</td>\n      <td>0.605040</td>\n    </tr>\n    <tr>\n      <td>8</td>\n      <td>9</td>\n      <td>0.681659</td>\n      <td>0.592155</td>\n      <td>0.672998</td>\n      <td>0.604265</td>\n    </tr>\n    <tr>\n      <td>9</td>\n      <td>10</td>\n      <td>0.684468</td>\n      <td>0.589260</td>\n      <td>0.674683</td>\n      <td>0.604076</td>\n    </tr>\n    <tr>\n      <td>10</td>\n      <td>11</td>\n      <td>0.686757</td>\n      <td>0.586542</td>\n      <td>0.675273</td>\n      <td>0.603984</td>\n    </tr>\n    <tr>\n      <td>11</td>\n      <td>12</td>\n      <td>0.689601</td>\n      <td>0.584186</td>\n      <td>0.673714</td>\n      <td>0.603588</td>\n    </tr>\n    <tr>\n      <td>12</td>\n      <td>13</td>\n      <td>0.691458</td>\n      <td>0.582191</td>\n      <td>0.675947</td>\n      <td>0.603010</td>\n    </tr>\n    <tr>\n      <td>13</td>\n      <td>14</td>\n      <td>0.692965</td>\n      <td>0.580390</td>\n      <td>0.676536</td>\n      <td>0.603034</td>\n    </tr>\n    <tr>\n      <td>14</td>\n      <td>15</td>\n      <td>0.694695</td>\n      <td>0.578502</td>\n      <td>0.675778</td>\n      <td>0.603691</td>\n    </tr>\n  </tbody>\n</table>\n</div>"
     },
     "metadata": {},
     "output_type": "execute_result",
     "execution_count": 2
    }
   ],
   "source": [
    "training_df = pandas.read_csv(os.path.join(root, \"output\", \"training.log\"))\n",
    "training_df"
   ]
  },
  {
   "cell_type": "markdown",
   "metadata": {},
   "source": [
    "### Training accuracy"
   ]
  },
  {
   "cell_type": "code",
   "execution_count": 3,
   "metadata": {
    "pycharm": {
     "is_executing": false
    }
   },
   "outputs": [
    {
     "data": {
      "text/plain": "<Figure size 432x288 with 0 Axes>"
     },
     "metadata": {},
     "output_type": "display_data"
    },
    {
     "data": {
      "text/plain": "<Figure size 432x288 with 1 Axes>",
      "image/png": "[encoded data removed]"
     },
     "metadata": {
      "needs_background": "light"
     },
     "output_type": "display_data"
    }
   ],
   "source": [
    "training_acc_columns = [x for x in list(training_df.columns) if \"acc\" in x]\n",
    "plt.figure()\n",
    "training_df[training_acc_columns].plot()\n",
    "plt.grid(True)\n",
    "plt.title(\"Baseline model with 1 filter\")\n",
    "plt.xlabel(\"Epochs\")\n",
    "plt.ylabel(\"Accuracy (%)\")\n",
    "\n",
    "plt.ylim([0.5,1.0])\n",
    "\n",
    "plt.show()"
   ]
  },
  {
   "cell_type": "markdown",
   "metadata": {},
   "source": [
    "### Training loss"
   ]
  },
  {
   "cell_type": "code",
   "execution_count": 4,
   "metadata": {
    "pycharm": {
     "is_executing": false
    }
   },
   "outputs": [
    {
     "data": {
      "text/plain": "<Figure size 432x288 with 0 Axes>"
     },
     "metadata": {},
     "output_type": "display_data"
    },
    {
     "data": {
      "text/plain": "<Figure size 432x288 with 1 Axes>",
      "image/png": "[encoded data removed]"
     },
     "metadata": {
      "needs_background": "light"
     },
     "output_type": "display_data"
    }
   ],
   "source": [
    "training_loss_columns = [x for x in list(training_df.columns) if \"loss\" in x]\n",
    "plt.figure()\n",
    "training_df[training_loss_columns].plot()\n",
    "plt.grid(True)\n",
    "plt.xlabel(\"Epochs\")\n",
    "plt.ylabel(\"Loss\")\n",
    "\n",
    "plt.ylim([0.0,1.0])\n",
    "\n",
    "plt.show()"
   ]
  },
  {
   "cell_type": "markdown",
   "metadata": {},
   "source": [
    "## Evaluation"
   ]
  },
  {
   "cell_type": "code",
   "execution_count": 5,
   "metadata": {
    "pycharm": {
     "is_executing": false
    }
   },
   "outputs": [],
   "source": [
    "with open(os.path.join(root, \"output\", \"eval.json\")) as fp:\n",
    "    df = pandas.read_json(fp).T"
   ]
  },
  {
   "cell_type": "markdown",
   "metadata": {},
   "source": [
    "Each point in the boxplot is the accuracy for one subject"
   ]
  },
  {
   "cell_type": "code",
   "execution_count": 6,
   "metadata": {
    "pycharm": {
     "is_executing": false
    }
   },
   "outputs": [
    {
     "data": {
      "text/plain": "<Figure size 432x288 with 1 Axes>",
      "image/png": "[encoded data removed]"
     },
     "metadata": {
      "needs_background": "light"
     },
     "output_type": "display_data"
    }
   ],
   "source": [
    "plt.figure()\n",
    "df[[\"acc\"]].boxplot()\n",
    "plt.ylim([0.5,1])\n",
    "plt.ylabel(\"Accuracy\")\n",
    "plt.title(\"Accuracy on the test set\")\n",
    "plt.xticks(plt.xticks()[0], [\"Baseline model\"])\n",
    "plt.show()"
   ]
  },
  {
   "cell_type": "code",
   "execution_count": 6,
   "metadata": {
    "pycharm": {
     "is_executing": false
    }
   },
   "outputs": [],
   "source": []
  }
 ],
 "metadata": {
  "kernelspec": {
   "name": "python3",
   "language": "python",
   "display_name": "Python 3"
  },
  "language_info": {
   "codemirror_mode": {
    "name": "ipython",
    "version": 3
   },
   "file_extension": ".py",
   "mimetype": "text/x-python",
   "name": "python",
   "nbconvert_exporter": "python",
   "pygments_lexer": "ipython3",
   "version": "3.6.8"
  },
  "pycharm": {
   "stem_cell": {
    "cell_type": "raw",
    "source": [],
    "metadata": {
     "collapsed": false
    }
   }
  }
 },
 "nbformat": 4,
 "nbformat_minor": 1
}