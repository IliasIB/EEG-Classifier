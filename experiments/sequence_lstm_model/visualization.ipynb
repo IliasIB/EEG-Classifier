{
 "cells": [
  {
   "cell_type": "markdown",
   "metadata": {
    "collapsed": true
   },
   "source": [
    "# The baseline model\n",
    "## Structure\n",
    "\n",
    "The model looks like this:\n",
    "![hackathon_model.png](images/hackathon_model.png)\n",
    "\n",
    "**How do I run this experiment?**\n",
    "\n",
    "```\n",
    "# Make sure your PYTHONPATH is set correctly to the root\n",
    "\n",
    "export PYTHONPATH=/path/to/project:$PYTHONPATH\n",
    "\n",
    "python3 experiment.py\n",
    "```\n",
    "\n",
    "**How do I evaluate the model?**\n",
    "\n",
    "```\n",
    "python3 evaluation.py\n",
    "```\n"
   ]
  },
  {
   "cell_type": "code",
   "execution_count": 1,
   "metadata": {
    "pycharm": {
     "is_executing": false
    }
   },
   "outputs": [],
   "source": [
    "import pandas\n",
    "import matplotlib.pyplot as plt\n",
    "import os\n",
    "root = os.getcwd()"
   ]
  },
  {
   "cell_type": "markdown",
   "metadata": {},
   "source": [
    "## Training\n",
    "\n",
    "We trained for 50 epochs and selected the best model according to our validation loss:"
   ]
  },
  {
   "cell_type": "code",
   "execution_count": 2,
   "metadata": {
    "pycharm": {
     "is_executing": false
    }
   },
   "outputs": [
    {
     "data": {
      "text/plain": "    epoch       acc      loss   val_acc  val_loss\n0       1  0.804698  0.422906  0.833067  0.370159\n1       2  0.847088  0.347206  0.847281  0.343429\n2       3  0.861872  0.317836  0.861517  0.321344\n3       4  0.869095  0.301930  0.868024  0.307488\n4       5  0.874603  0.291477  0.868909  0.301456\n5       6  0.877829  0.285541  0.874468  0.294131\n6       7  0.880598  0.278538  0.877058  0.291035\n7       8  0.883318  0.272191  0.875500  0.292941\n8       9  0.884247  0.270131  0.880217  0.286123\n9      10  0.886395  0.266557  0.876111  0.290351\n10     11  0.888807  0.261253  0.882681  0.280847\n11     12  0.889056  0.260391  0.874342  0.297250\n12     13  0.887868  0.262725  0.881586  0.284210\n13     14  0.890593  0.256357  0.879459  0.290624",
      "text/html": "<div>\n<style scoped>\n    .dataframe tbody tr th:only-of-type {\n        vertical-align: middle;\n    }\n\n    .dataframe tbody tr th {\n        vertical-align: top;\n    }\n\n    .dataframe thead th {\n        text-align: right;\n    }\n</style>\n<table border=\"1\" class=\"dataframe\">\n  <thead>\n    <tr style=\"text-align: right;\">\n      <th></th>\n      <th>epoch</th>\n      <th>acc</th>\n      <th>loss</th>\n      <th>val_acc</th>\n      <th>val_loss</th>\n    </tr>\n  </thead>\n  <tbody>\n    <tr>\n      <td>0</td>\n      <td>1</td>\n      <td>0.804698</td>\n      <td>0.422906</td>\n      <td>0.833067</td>\n      <td>0.370159</td>\n    </tr>\n    <tr>\n      <td>1</td>\n      <td>2</td>\n      <td>0.847088</td>\n      <td>0.347206</td>\n      <td>0.847281</td>\n      <td>0.343429</td>\n    </tr>\n    <tr>\n      <td>2</td>\n      <td>3</td>\n      <td>0.861872</td>\n      <td>0.317836</td>\n      <td>0.861517</td>\n      <td>0.321344</td>\n    </tr>\n    <tr>\n      <td>3</td>\n      <td>4</td>\n      <td>0.869095</td>\n      <td>0.301930</td>\n      <td>0.868024</td>\n      <td>0.307488</td>\n    </tr>\n    <tr>\n      <td>4</td>\n      <td>5</td>\n      <td>0.874603</td>\n      <td>0.291477</td>\n      <td>0.868909</td>\n      <td>0.301456</td>\n    </tr>\n    <tr>\n      <td>5</td>\n      <td>6</td>\n      <td>0.877829</td>\n      <td>0.285541</td>\n      <td>0.874468</td>\n      <td>0.294131</td>\n    </tr>\n    <tr>\n      <td>6</td>\n      <td>7</td>\n      <td>0.880598</td>\n      <td>0.278538</td>\n      <td>0.877058</td>\n      <td>0.291035</td>\n    </tr>\n    <tr>\n      <td>7</td>\n      <td>8</td>\n      <td>0.883318</td>\n      <td>0.272191</td>\n      <td>0.875500</td>\n      <td>0.292941</td>\n    </tr>\n    <tr>\n      <td>8</td>\n      <td>9</td>\n      <td>0.884247</td>\n      <td>0.270131</td>\n      <td>0.880217</td>\n      <td>0.286123</td>\n    </tr>\n    <tr>\n      <td>9</td>\n      <td>10</td>\n      <td>0.886395</td>\n      <td>0.266557</td>\n      <td>0.876111</td>\n      <td>0.290351</td>\n    </tr>\n    <tr>\n      <td>10</td>\n      <td>11</td>\n      <td>0.888807</td>\n      <td>0.261253</td>\n      <td>0.882681</td>\n      <td>0.280847</td>\n    </tr>\n    <tr>\n      <td>11</td>\n      <td>12</td>\n      <td>0.889056</td>\n      <td>0.260391</td>\n      <td>0.874342</td>\n      <td>0.297250</td>\n    </tr>\n    <tr>\n      <td>12</td>\n      <td>13</td>\n      <td>0.887868</td>\n      <td>0.262725</td>\n      <td>0.881586</td>\n      <td>0.284210</td>\n    </tr>\n    <tr>\n      <td>13</td>\n      <td>14</td>\n      <td>0.890593</td>\n      <td>0.256357</td>\n      <td>0.879459</td>\n      <td>0.290624</td>\n    </tr>\n  </tbody>\n</table>\n</div>"
     },
     "metadata": {},
     "output_type": "execute_result",
     "execution_count": 2
    }
   ],
   "source": [
    "training_df = pandas.read_csv(os.path.join(root, \"output\", \"training.log\"))\n",
    "training_df"
   ]
  },
  {
   "cell_type": "markdown",
   "metadata": {},
   "source": [
    "### Training accuracy"
   ]
  },
  {
   "cell_type": "code",
   "execution_count": 3,
   "metadata": {
    "pycharm": {
     "is_executing": false
    }
   },
   "outputs": [
    {
     "data": {
      "text/plain": "<Figure size 432x288 with 0 Axes>"
     },
     "metadata": {},
     "output_type": "display_data"
    },
    {
     "data": {
      "text/plain": "<Figure size 432x288 with 1 Axes>",
      "image/png": "[encoded data removed]"
     },
     "metadata": {
      "needs_background": "light"
     },
     "output_type": "display_data"
    }
   ],
   "source": [
    "training_acc_columns = [x for x in list(training_df.columns) if \"acc\" in x]\n",
    "plt.figure()\n",
    "training_df[training_acc_columns].plot()\n",
    "plt.grid(True)\n",
    "plt.title(\"Sequence LSTM model with 1 filter\")\n",
    "plt.xlabel(\"Epochs\")\n",
    "plt.ylabel(\"Accuracy (%)\")\n",
    "\n",
    "plt.ylim([0.5,1.0])\n",
    "\n",
    "plt.show()"
   ]
  },
  {
   "cell_type": "markdown",
   "metadata": {},
   "source": [
    "### Training loss"
   ]
  },
  {
   "cell_type": "code",
   "execution_count": 4,
   "metadata": {
    "pycharm": {
     "is_executing": false
    }
   },
   "outputs": [
    {
     "data": {
      "text/plain": "<Figure size 432x288 with 0 Axes>"
     },
     "metadata": {},
     "output_type": "display_data"
    },
    {
     "data": {
      "text/plain": "<Figure size 432x288 with 1 Axes>",
      "image/png": "[encoded data removed]"
     },
     "metadata": {
      "needs_background": "light"
     },
     "output_type": "display_data"
    }
   ],
   "source": [
    "training_loss_columns = [x for x in list(training_df.columns) if \"loss\" in x]\n",
    "plt.figure()\n",
    "training_df[training_loss_columns].plot()\n",
    "plt.grid(True)\n",
    "plt.xlabel(\"Epochs\")\n",
    "plt.ylabel(\"Loss\")\n",
    "\n",
    "plt.ylim([0.0,1.0])\n",
    "\n",
    "plt.show()"
   ]
  },
  {
   "cell_type": "markdown",
   "metadata": {},
   "source": [
    "## Evaluation"
   ]
  },
  {
   "cell_type": "code",
   "execution_count": 5,
   "metadata": {
    "pycharm": {
     "is_executing": false
    }
   },
   "outputs": [],
   "source": [
    "with open(os.path.join(root, \"output\", \"eval.json\")) as fp:\n",
    "    df = pandas.read_json(fp).T"
   ]
  },
  {
   "cell_type": "markdown",
   "metadata": {},
   "source": [
    "Each point in the boxplot is the accuracy for one subject"
   ]
  },
  {
   "cell_type": "code",
   "execution_count": 6,
   "metadata": {
    "pycharm": {
     "is_executing": false
    }
   },
   "outputs": [
    {
     "data": {
      "text/plain": "<Figure size 432x288 with 1 Axes>",
      "image/png": "[encoded data removed]"
     },
     "metadata": {
      "needs_background": "light"
     },
     "output_type": "display_data"
    }
   ],
   "source": [
    "plt.figure()\n",
    "df[[\"acc\"]].boxplot()\n",
    "plt.ylim([0.5,1])\n",
    "plt.ylabel(\"Accuracy\")\n",
    "plt.title(\"Accuracy on the test set\")\n",
    "plt.xticks(plt.xticks()[0], [\"Sequence LSTM model\"])\n",
    "plt.show()"
   ]
  },
  {
   "cell_type": "code",
   "execution_count": 6,
   "metadata": {
    "pycharm": {
     "is_executing": false
    }
   },
   "outputs": [],
   "source": []
  }
 ],
 "metadata": {
  "kernelspec": {
   "name": "python3",
   "language": "python",
   "display_name": "Python 3"
  },
  "language_info": {
   "codemirror_mode": {
    "name": "ipython",
    "version": 3
   },
   "file_extension": ".py",
   "mimetype": "text/x-python",
   "name": "python",
   "nbconvert_exporter": "python",
   "pygments_lexer": "ipython3",
   "version": "3.6.8"
  },
  "pycharm": {
   "stem_cell": {
    "cell_type": "raw",
    "source": [],
    "metadata": {
     "collapsed": false
    }
   }
  }
 },
 "nbformat": 4,
 "nbformat_minor": 1
}