{
 "cells": [
  {
   "cell_type": "markdown",
   "metadata": {
    "collapsed": true
   },
   "source": [
    "# The baseline model\n",
    "## Structure\n",
    "\n",
    "The model looks like this:\n",
    "![hackathon_model.png](images/hackathon_model.png)\n",
    "\n",
    "**How do I run this experiment?**\n",
    "\n",
    "```\n",
    "# Make sure your PYTHONPATH is set correctly to the root\n",
    "\n",
    "export PYTHONPATH=/path/to/project:$PYTHONPATH\n",
    "\n",
    "python3 experiment.py\n",
    "```\n",
    "\n",
    "**How do I evaluate the model?**\n",
    "\n",
    "```\n",
    "python3 evaluation.py\n",
    "```\n"
   ]
  },
  {
   "cell_type": "code",
   "execution_count": 7,
   "metadata": {
    "pycharm": {
     "is_executing": false
    }
   },
   "outputs": [],
   "source": [
    "import pandas\n",
    "import matplotlib.pyplot as plt\n",
    "import os\n",
    "root = os.getcwd()"
   ]
  },
  {
   "cell_type": "markdown",
   "metadata": {},
   "source": [
    "## Training\n",
    "\n",
    "We trained for 50 epochs and selected the best model according to our validation loss:"
   ]
  },
  {
   "cell_type": "code",
   "execution_count": 8,
   "metadata": {
    "pycharm": {
     "is_executing": false
    }
   },
   "outputs": [
    {
     "data": {
      "text/plain": "   epoch       acc      loss   val_acc  val_loss\n0      1  0.879859  0.279515  0.886240  0.271192\n1      2  0.895741  0.245864  0.890641  0.261411\n2      3  0.906493  0.223330  0.892663  0.257240\n3      4  0.915000  0.204958  0.895401  0.255898",
      "text/html": "<div>\n<style scoped>\n    .dataframe tbody tr th:only-of-type {\n        vertical-align: middle;\n    }\n\n    .dataframe tbody tr th {\n        vertical-align: top;\n    }\n\n    .dataframe thead th {\n        text-align: right;\n    }\n</style>\n<table border=\"1\" class=\"dataframe\">\n  <thead>\n    <tr style=\"text-align: right;\">\n      <th></th>\n      <th>epoch</th>\n      <th>acc</th>\n      <th>loss</th>\n      <th>val_acc</th>\n      <th>val_loss</th>\n    </tr>\n  </thead>\n  <tbody>\n    <tr>\n      <td>0</td>\n      <td>1</td>\n      <td>0.879859</td>\n      <td>0.279515</td>\n      <td>0.886240</td>\n      <td>0.271192</td>\n    </tr>\n    <tr>\n      <td>1</td>\n      <td>2</td>\n      <td>0.895741</td>\n      <td>0.245864</td>\n      <td>0.890641</td>\n      <td>0.261411</td>\n    </tr>\n    <tr>\n      <td>2</td>\n      <td>3</td>\n      <td>0.906493</td>\n      <td>0.223330</td>\n      <td>0.892663</td>\n      <td>0.257240</td>\n    </tr>\n    <tr>\n      <td>3</td>\n      <td>4</td>\n      <td>0.915000</td>\n      <td>0.204958</td>\n      <td>0.895401</td>\n      <td>0.255898</td>\n    </tr>\n  </tbody>\n</table>\n</div>"
     },
     "metadata": {},
     "output_type": "execute_result",
     "execution_count": 8
    }
   ],
   "source": [
    "training_df = pandas.read_csv(os.path.join(root, \"output\", \"training.log\"))\n",
    "training_df"
   ]
  },
  {
   "cell_type": "markdown",
   "metadata": {},
   "source": [
    "### Training accuracy"
   ]
  },
  {
   "cell_type": "code",
   "execution_count": 9,
   "metadata": {
    "pycharm": {
     "is_executing": false
    }
   },
   "outputs": [
    {
     "data": {
      "text/plain": "<Figure size 432x288 with 0 Axes>"
     },
     "metadata": {},
     "output_type": "display_data"
    },
    {
     "data": {
      "text/plain": "<Figure size 432x288 with 1 Axes>",
      "image/png": "[encoded data removed]"
     },
     "metadata": {
      "needs_background": "light"
     },
     "output_type": "display_data"
    }
   ],
   "source": [
    "training_acc_columns = [x for x in list(training_df.columns) if \"acc\" in x]\n",
    "plt.figure()\n",
    "training_df[training_acc_columns].plot()\n",
    "plt.grid(True)\n",
    "plt.title(\"Sequence LSTM model with 1 filter\")\n",
    "plt.xlabel(\"Epochs\")\n",
    "plt.ylabel(\"Accuracy (%)\")\n",
    "\n",
    "plt.ylim([0.5,1.0])\n",
    "\n",
    "plt.show()"
   ]
  },
  {
   "cell_type": "markdown",
   "metadata": {},
   "source": [
    "### Training loss"
   ]
  },
  {
   "cell_type": "code",
   "execution_count": 10,
   "metadata": {
    "pycharm": {
     "is_executing": false
    }
   },
   "outputs": [
    {
     "data": {
      "text/plain": "<Figure size 432x288 with 0 Axes>"
     },
     "metadata": {},
     "output_type": "display_data"
    },
    {
     "data": {
      "text/plain": "<Figure size 432x288 with 1 Axes>",
      "image/png": "[encoded data removed]"
     },
     "metadata": {
      "needs_background": "light"
     },
     "output_type": "display_data"
    }
   ],
   "source": [
    "training_loss_columns = [x for x in list(training_df.columns) if \"loss\" in x]\n",
    "plt.figure()\n",
    "training_df[training_loss_columns].plot()\n",
    "plt.grid(True)\n",
    "plt.xlabel(\"Epochs\")\n",
    "plt.ylabel(\"Loss\")\n",
    "\n",
    "plt.ylim([0.0,1.0])\n",
    "\n",
    "plt.show()"
   ]
  },
  {
   "cell_type": "markdown",
   "metadata": {},
   "source": [
    "## Evaluation"
   ]
  },
  {
   "cell_type": "code",
   "execution_count": 11,
   "metadata": {
    "pycharm": {
     "is_executing": false
    }
   },
   "outputs": [],
   "source": [
    "with open(os.path.join(root, \"output\", \"eval.json\")) as fp:\n",
    "    df = pandas.read_json(fp).T"
   ]
  },
  {
   "cell_type": "markdown",
   "metadata": {},
   "source": [
    "Each point in the boxplot is the accuracy for one subject"
   ]
  },
  {
   "cell_type": "code",
   "execution_count": 12,
   "metadata": {
    "pycharm": {
     "is_executing": false
    }
   },
   "outputs": [
    {
     "data": {
      "text/plain": "<Figure size 432x288 with 1 Axes>",
      "image/png": "[encoded data removed]"
     },
     "metadata": {
      "needs_background": "light"
     },
     "output_type": "display_data"
    }
   ],
   "source": [
    "plt.figure()\n",
    "df[[\"acc\"]].boxplot()\n",
    "plt.ylim([0.5,1])\n",
    "plt.ylabel(\"Accuracy\")\n",
    "plt.title(\"Accuracy on the test set\")\n",
    "plt.xticks(plt.xticks()[0], [\"Sequence LSTM model\"])\n",
    "plt.show()"
   ]
  },
  {
   "cell_type": "code",
   "execution_count": 12,
   "metadata": {
    "pycharm": {
     "is_executing": false
    }
   },
   "outputs": [],
   "source": []
  }
 ],
 "metadata": {
  "kernelspec": {
   "name": "python3",
   "language": "python",
   "display_name": "Python 3"
  },
  "language_info": {
   "codemirror_mode": {
    "name": "ipython",
    "version": 3
   },
   "file_extension": ".py",
   "mimetype": "text/x-python",
   "name": "python",
   "nbconvert_exporter": "python",
   "pygments_lexer": "ipython3",
   "version": "3.6.8"
  },
  "pycharm": {
   "stem_cell": {
    "cell_type": "raw",
    "source": [],
    "metadata": {
     "collapsed": false
    }
   }
  }
 },
 "nbformat": 4,
 "nbformat_minor": 1
}