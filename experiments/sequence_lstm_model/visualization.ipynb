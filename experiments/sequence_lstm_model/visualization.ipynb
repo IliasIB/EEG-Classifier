{
 "cells": [
  {
   "cell_type": "markdown",
   "metadata": {
    "collapsed": true
   },
   "source": [
    "# The baseline model\n",
    "## Structure\n",
    "\n",
    "The model looks like this:\n",
    "![hackathon_model.png](images/hackathon_model.png)\n",
    "\n",
    "**How do I run this experiment?**\n",
    "\n",
    "```\n",
    "# Make sure your PYTHONPATH is set correctly to the root\n",
    "\n",
    "export PYTHONPATH=/path/to/project:$PYTHONPATH\n",
    "\n",
    "python3 experiment.py\n",
    "```\n",
    "\n",
    "**How do I evaluate the model?**\n",
    "\n",
    "```\n",
    "python3 evaluation.py\n",
    "```\n"
   ]
  },
  {
   "cell_type": "code",
   "execution_count": 25,
   "metadata": {
    "pycharm": {
     "is_executing": false
    }
   },
   "outputs": [],
   "source": [
    "import pandas\n",
    "import matplotlib.pyplot as plt\n",
    "import os\n",
    "root = os.getcwd()"
   ]
  },
  {
   "cell_type": "markdown",
   "metadata": {},
   "source": [
    "## Training\n",
    "\n",
    "We trained for 50 epochs and selected the best model according to our validation loss:"
   ]
  },
  {
   "cell_type": "code",
   "execution_count": 26,
   "metadata": {
    "pycharm": {
     "is_executing": false
    }
   },
   "outputs": [
    {
     "data": {
      "text/plain": "    epoch       acc      loss   val_acc  val_loss\n0       1  0.824040  0.389188  0.848587  0.340161\n1       2  0.855971  0.328921  0.859243  0.321547\n2       3  0.866592  0.307482  0.865202  0.314402\n3       4  0.872841  0.295503  0.867582  0.306751\n4       5  0.877335  0.286004  0.873352  0.301332\n5       6  0.882165  0.275457  0.875353  0.292494\n6       7  0.885030  0.268757  0.875753  0.288472\n7       8  0.887417  0.265404  0.876806  0.287720\n8       9  0.890541  0.257481  0.880281  0.285505\n9      10  0.891198  0.255155  0.879712  0.284194\n10     11  0.892027  0.254927  0.880638  0.282053\n11     12  0.894287  0.250257  0.882007  0.276703\n12     13  0.894921  0.247418  0.881628  0.277154\n13     14  0.896990  0.244326  0.884029  0.281134\n14     15  0.898100  0.241028  0.883797  0.276582\n15     16  0.898299  0.239589  0.885482  0.266759\n16     17  0.899147  0.238210  0.886072  0.275989\n17     18  0.899884  0.237845  0.885693  0.271171\n18     19  0.901660  0.234858  0.886746  0.270586\n19     20  0.900705  0.235789  0.886072  0.270367\n20     21  0.900420  0.235554  0.884218  0.271282\n21     22  0.901960  0.233520  0.890010  0.265441\n22     23  0.902132  0.233718  0.883797  0.274278\n23     24  0.901220  0.234040  0.886598  0.266056\n24     25  0.903326  0.230418  0.887483  0.266195\n25     26  0.904633  0.228174  0.886767  0.269368\n26     27  0.906453  0.225493  0.884703  0.272484\n27     28  0.904777  0.225968  0.888072  0.269411\n28     29  0.904502  0.227225  0.886767  0.271243\n29     30  0.905282  0.225488  0.888599  0.268404",
      "text/html": "<div>\n<style scoped>\n    .dataframe tbody tr th:only-of-type {\n        vertical-align: middle;\n    }\n\n    .dataframe tbody tr th {\n        vertical-align: top;\n    }\n\n    .dataframe thead th {\n        text-align: right;\n    }\n</style>\n<table border=\"1\" class=\"dataframe\">\n  <thead>\n    <tr style=\"text-align: right;\">\n      <th></th>\n      <th>epoch</th>\n      <th>acc</th>\n      <th>loss</th>\n      <th>val_acc</th>\n      <th>val_loss</th>\n    </tr>\n  </thead>\n  <tbody>\n    <tr>\n      <td>0</td>\n      <td>1</td>\n      <td>0.824040</td>\n      <td>0.389188</td>\n      <td>0.848587</td>\n      <td>0.340161</td>\n    </tr>\n    <tr>\n      <td>1</td>\n      <td>2</td>\n      <td>0.855971</td>\n      <td>0.328921</td>\n      <td>0.859243</td>\n      <td>0.321547</td>\n    </tr>\n    <tr>\n      <td>2</td>\n      <td>3</td>\n      <td>0.866592</td>\n      <td>0.307482</td>\n      <td>0.865202</td>\n      <td>0.314402</td>\n    </tr>\n    <tr>\n      <td>3</td>\n      <td>4</td>\n      <td>0.872841</td>\n      <td>0.295503</td>\n      <td>0.867582</td>\n      <td>0.306751</td>\n    </tr>\n    <tr>\n      <td>4</td>\n      <td>5</td>\n      <td>0.877335</td>\n      <td>0.286004</td>\n      <td>0.873352</td>\n      <td>0.301332</td>\n    </tr>\n    <tr>\n      <td>5</td>\n      <td>6</td>\n      <td>0.882165</td>\n      <td>0.275457</td>\n      <td>0.875353</td>\n      <td>0.292494</td>\n    </tr>\n    <tr>\n      <td>6</td>\n      <td>7</td>\n      <td>0.885030</td>\n      <td>0.268757</td>\n      <td>0.875753</td>\n      <td>0.288472</td>\n    </tr>\n    <tr>\n      <td>7</td>\n      <td>8</td>\n      <td>0.887417</td>\n      <td>0.265404</td>\n      <td>0.876806</td>\n      <td>0.287720</td>\n    </tr>\n    <tr>\n      <td>8</td>\n      <td>9</td>\n      <td>0.890541</td>\n      <td>0.257481</td>\n      <td>0.880281</td>\n      <td>0.285505</td>\n    </tr>\n    <tr>\n      <td>9</td>\n      <td>10</td>\n      <td>0.891198</td>\n      <td>0.255155</td>\n      <td>0.879712</td>\n      <td>0.284194</td>\n    </tr>\n    <tr>\n      <td>10</td>\n      <td>11</td>\n      <td>0.892027</td>\n      <td>0.254927</td>\n      <td>0.880638</td>\n      <td>0.282053</td>\n    </tr>\n    <tr>\n      <td>11</td>\n      <td>12</td>\n      <td>0.894287</td>\n      <td>0.250257</td>\n      <td>0.882007</td>\n      <td>0.276703</td>\n    </tr>\n    <tr>\n      <td>12</td>\n      <td>13</td>\n      <td>0.894921</td>\n      <td>0.247418</td>\n      <td>0.881628</td>\n      <td>0.277154</td>\n    </tr>\n    <tr>\n      <td>13</td>\n      <td>14</td>\n      <td>0.896990</td>\n      <td>0.244326</td>\n      <td>0.884029</td>\n      <td>0.281134</td>\n    </tr>\n    <tr>\n      <td>14</td>\n      <td>15</td>\n      <td>0.898100</td>\n      <td>0.241028</td>\n      <td>0.883797</td>\n      <td>0.276582</td>\n    </tr>\n    <tr>\n      <td>15</td>\n      <td>16</td>\n      <td>0.898299</td>\n      <td>0.239589</td>\n      <td>0.885482</td>\n      <td>0.266759</td>\n    </tr>\n    <tr>\n      <td>16</td>\n      <td>17</td>\n      <td>0.899147</td>\n      <td>0.238210</td>\n      <td>0.886072</td>\n      <td>0.275989</td>\n    </tr>\n    <tr>\n      <td>17</td>\n      <td>18</td>\n      <td>0.899884</td>\n      <td>0.237845</td>\n      <td>0.885693</td>\n      <td>0.271171</td>\n    </tr>\n    <tr>\n      <td>18</td>\n      <td>19</td>\n      <td>0.901660</td>\n      <td>0.234858</td>\n      <td>0.886746</td>\n      <td>0.270586</td>\n    </tr>\n    <tr>\n      <td>19</td>\n      <td>20</td>\n      <td>0.900705</td>\n      <td>0.235789</td>\n      <td>0.886072</td>\n      <td>0.270367</td>\n    </tr>\n    <tr>\n      <td>20</td>\n      <td>21</td>\n      <td>0.900420</td>\n      <td>0.235554</td>\n      <td>0.884218</td>\n      <td>0.271282</td>\n    </tr>\n    <tr>\n      <td>21</td>\n      <td>22</td>\n      <td>0.901960</td>\n      <td>0.233520</td>\n      <td>0.890010</td>\n      <td>0.265441</td>\n    </tr>\n    <tr>\n      <td>22</td>\n      <td>23</td>\n      <td>0.902132</td>\n      <td>0.233718</td>\n      <td>0.883797</td>\n      <td>0.274278</td>\n    </tr>\n    <tr>\n      <td>23</td>\n      <td>24</td>\n      <td>0.901220</td>\n      <td>0.234040</td>\n      <td>0.886598</td>\n      <td>0.266056</td>\n    </tr>\n    <tr>\n      <td>24</td>\n      <td>25</td>\n      <td>0.903326</td>\n      <td>0.230418</td>\n      <td>0.887483</td>\n      <td>0.266195</td>\n    </tr>\n    <tr>\n      <td>25</td>\n      <td>26</td>\n      <td>0.904633</td>\n      <td>0.228174</td>\n      <td>0.886767</td>\n      <td>0.269368</td>\n    </tr>\n    <tr>\n      <td>26</td>\n      <td>27</td>\n      <td>0.906453</td>\n      <td>0.225493</td>\n      <td>0.884703</td>\n      <td>0.272484</td>\n    </tr>\n    <tr>\n      <td>27</td>\n      <td>28</td>\n      <td>0.904777</td>\n      <td>0.225968</td>\n      <td>0.888072</td>\n      <td>0.269411</td>\n    </tr>\n    <tr>\n      <td>28</td>\n      <td>29</td>\n      <td>0.904502</td>\n      <td>0.227225</td>\n      <td>0.886767</td>\n      <td>0.271243</td>\n    </tr>\n    <tr>\n      <td>29</td>\n      <td>30</td>\n      <td>0.905282</td>\n      <td>0.225488</td>\n      <td>0.888599</td>\n      <td>0.268404</td>\n    </tr>\n  </tbody>\n</table>\n</div>"
     },
     "metadata": {},
     "output_type": "execute_result",
     "execution_count": 26
    }
   ],
   "source": [
    "training_df = pandas.read_csv(os.path.join(root, \"output\", \"training.log\"))\n",
    "training_df"
   ]
  },
  {
   "cell_type": "markdown",
   "metadata": {},
   "source": [
    "### Training accuracy"
   ]
  },
  {
   "cell_type": "code",
   "execution_count": 27,
   "metadata": {
    "pycharm": {
     "is_executing": false
    }
   },
   "outputs": [
    {
     "data": {
      "text/plain": "<Figure size 432x288 with 0 Axes>"
     },
     "metadata": {},
     "output_type": "display_data"
    },
    {
     "data": {
      "text/plain": "<Figure size 432x288 with 1 Axes>",
      "image/png": "[encoded data removed]"
     },
     "metadata": {
      "needs_background": "light"
     },
     "output_type": "display_data"
    }
   ],
   "source": [
    "training_acc_columns = [x for x in list(training_df.columns) if \"acc\" in x]\n",
    "plt.figure()\n",
    "training_df[training_acc_columns].plot()\n",
    "plt.grid(True)\n",
    "plt.title(\"Sequence LSTM model with 1 filter\")\n",
    "plt.xlabel(\"Epochs\")\n",
    "plt.ylabel(\"Accuracy (%)\")\n",
    "\n",
    "plt.ylim([0.5,1.0])\n",
    "\n",
    "plt.show()"
   ]
  },
  {
   "cell_type": "markdown",
   "metadata": {},
   "source": [
    "### Training loss"
   ]
  },
  {
   "cell_type": "code",
   "execution_count": 28,
   "metadata": {
    "pycharm": {
     "is_executing": false
    }
   },
   "outputs": [
    {
     "data": {
      "text/plain": "<Figure size 432x288 with 0 Axes>"
     },
     "metadata": {},
     "output_type": "display_data"
    },
    {
     "data": {
      "text/plain": "<Figure size 432x288 with 1 Axes>",
      "image/png": "[encoded data removed]"
     },
     "metadata": {
      "needs_background": "light"
     },
     "output_type": "display_data"
    }
   ],
   "source": [
    "training_loss_columns = [x for x in list(training_df.columns) if \"loss\" in x]\n",
    "plt.figure()\n",
    "training_df[training_loss_columns].plot()\n",
    "plt.grid(True)\n",
    "plt.xlabel(\"Epochs\")\n",
    "plt.ylabel(\"Loss\")\n",
    "\n",
    "plt.ylim([0.0,1.0])\n",
    "\n",
    "plt.show()"
   ]
  },
  {
   "cell_type": "markdown",
   "metadata": {},
   "source": [
    "## Evaluation"
   ]
  },
  {
   "cell_type": "code",
   "execution_count": 29,
   "metadata": {
    "pycharm": {
     "is_executing": false
    }
   },
   "outputs": [],
   "source": [
    "with open(os.path.join(root, \"output\", \"eval.json\")) as fp:\n",
    "    df = pandas.read_json(fp).T"
   ]
  },
  {
   "cell_type": "markdown",
   "metadata": {},
   "source": [
    "Each point in the boxplot is the accuracy for one subject"
   ]
  },
  {
   "cell_type": "code",
   "execution_count": 30,
   "metadata": {
    "pycharm": {
     "is_executing": false
    }
   },
   "outputs": [
    {
     "data": {
      "text/plain": "<Figure size 432x288 with 1 Axes>",
      "image/png": "[encoded data removed]"
     },
     "metadata": {
      "needs_background": "light"
     },
     "output_type": "display_data"
    }
   ],
   "source": [
    "plt.figure()\n",
    "df[[\"acc\"]].boxplot()\n",
    "plt.ylim([0.5,1])\n",
    "plt.ylabel(\"Accuracy\")\n",
    "plt.title(\"Accuracy on the test set\")\n",
    "plt.xticks(plt.xticks()[0], [\"Sequence LSTM model\"])\n",
    "plt.show()"
   ]
  },
  {
   "cell_type": "code",
   "execution_count": 30,
   "metadata": {
    "pycharm": {
     "is_executing": false
    }
   },
   "outputs": [],
   "source": []
  }
 ],
 "metadata": {
  "kernelspec": {
   "name": "python3",
   "language": "python",
   "display_name": "Python 3"
  },
  "language_info": {
   "codemirror_mode": {
    "name": "ipython",
    "version": 3
   },
   "file_extension": ".py",
   "mimetype": "text/x-python",
   "name": "python",
   "nbconvert_exporter": "python",
   "pygments_lexer": "ipython3",
   "version": "3.6.8"
  },
  "pycharm": {
   "stem_cell": {
    "cell_type": "raw",
    "source": [],
    "metadata": {
     "collapsed": false
    }
   }
  }
 },
 "nbformat": 4,
 "nbformat_minor": 1
}