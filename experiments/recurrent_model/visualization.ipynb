{
 "cells": [
  {
   "cell_type": "markdown",
   "metadata": {
    "collapsed": true
   },
   "source": [
    "# The recurrent model\n",
    "## Structure\n",
    "\n",
    "The model looks like this:\n",
    "![hackathon_model.png](images/recurrent_model.png)\n",
    "\n",
    "**How do I run this experiment?**\n",
    "\n",
    "```\n",
    "# Make sure your PYTHONPATH is set correctly to the root\n",
    "\n",
    "export PYTHONPATH=/path/to/project:$PYTHONPATH\n",
    "\n",
    "python3 experiment.py --window TIME_WINDOW --epochs EPOCHS --batch BATCH_SIZE --band BAND\n",
    "```\n",
    "\n",
    "**How do I evaluate the model?**\n",
    "\n",
    "```\n",
    "python3 evaluation.py --window TIME_WINDOW --batch BATCH_SIZE\n",
    "```\n"
   ]
  },
  {
   "cell_type": "code",
   "execution_count": 6,
   "metadata": {},
   "outputs": [],
   "source": [
    "import pandas\n",
    "import matplotlib.pyplot as plt\n",
    "import os\n",
    "from matplotlib import gridspec\n",
    "import numpy as np\n",
    "\n",
    "root = os.getcwd()\n",
    "base_root = os.path.join(os.path.dirname(root), \"baseline_model\")"
   ]
  },
  {
   "cell_type": "markdown",
   "metadata": {},
   "source": [
    "\n",
    "## Evaluation\n",
    "The code below can be run if the baseline and recurrent experiment has been executed for 10, 5 and 2 seconds using the full frequency.\n"
   ]
  },
  {
   "cell_type": "code",
   "execution_count": 6,
   "metadata": {},
   "outputs": [],
   "source": []
  },
  {
   "cell_type": "markdown",
   "source": [
    "The evaluations for the base and recurrent experiment are read and a Wilcoxon test is performed to check the statistical significance of the results being greater."
   ],
   "metadata": {
    "collapsed": false
   }
  },
  {
   "cell_type": "code",
   "execution_count": 7,
   "outputs": [
    {
     "name": "stdout",
     "output_type": "stream",
     "text": [
      "WilcoxonResult(statistic=1053.0, pvalue=9.243657984627427e-07)\n",
      "WilcoxonResult(statistic=1111.0, pvalue=4.066044533018723e-08)\n",
      "WilcoxonResult(statistic=1075.0, pvalue=3.195828614174954e-08)\n"
     ]
    }
   ],
   "source": [
    "from scipy import stats\n",
    "\n",
    "with open(os.path.join(base_root, \"output\", \"evaluation_128_full.json\")) as fp:\n",
    "    dfb1 = pandas.read_json(fp).T\n",
    "with open(os.path.join(base_root, \"output\", \"evaluation_320_full.json\")) as fp:\n",
    "    dfb2 = pandas.read_json(fp).T\n",
    "with open(os.path.join(base_root, \"output\", \"evaluation_640_full.json\")) as fp:\n",
    "    dfb3 = pandas.read_json(fp).T\n",
    "\n",
    "with open(os.path.join(root, \"output\", \"evaluation_128_full.json\")) as fp:\n",
    "    dfr1 = pandas.read_json(fp).T\n",
    "with open(os.path.join(root, \"output\", \"evaluation_320_full.json\")) as fp:\n",
    "    dfr2 = pandas.read_json(fp).T\n",
    "with open(os.path.join(root, \"output\", \"evaluation_640_full.json\")) as fp:\n",
    "    dfr3 = pandas.read_json(fp).T\n",
    "\n",
    "print(stats.wilcoxon(dfr1.T.values[1], dfb1.T.values[1], alternative=\"greater\"))\n",
    "print(stats.wilcoxon(dfr2.T.values[1], dfb2.T.values[1], alternative=\"greater\"))\n",
    "print(stats.wilcoxon(dfr3.T.values[1], dfb3.T.values[1], alternative=\"greater\"))"
   ],
   "metadata": {
    "collapsed": false,
    "pycharm": {
     "name": "#%%\n"
    }
   }
  },
  {
   "cell_type": "code",
   "execution_count": 8,
   "outputs": [
    {
     "data": {
      "text/plain": "<Figure size 432x288 with 1 Axes>",
      "image/png": "[encoded data removed]"
     },
     "metadata": {
      "needs_background": "light"
     },
     "output_type": "display_data"
    }
   ],
   "source": [
    "fig = plt.figure()\n",
    "plt.grid(color='black', linestyle=':', linewidth=1)\n",
    "plt.boxplot([dfr1[[\"acc\"]].T.values[0], dfr2[[\"acc\"]].T.values[0], dfr3[[\"acc\"]].T.values[0]])\n",
    "plt.ylim([0.5,1])\n",
    "plt.ylabel(\"Accuracy\")\n",
    "plt.xlabel(\"Input length (seconds)\")\n",
    "plt.xticks([1, 2, 3], [\"2\", \"5\", \"10\"])\n",
    "plt.show()\n",
    "fig.savefig(\"plots/new_performance.svg\", format=\"svg\")"
   ],
   "metadata": {
    "collapsed": false,
    "pycharm": {
     "name": "#%%\n"
    }
   }
  },
  {
   "cell_type": "markdown",
   "metadata": {},
   "source": [
    "A boxplot is made to compare the results between the baseline and recurrent model"
   ]
  },
  {
   "cell_type": "code",
   "execution_count": 9,
   "metadata": {},
   "outputs": [
    {
     "name": "stderr",
     "output_type": "stream",
     "text": [
      "/home/ilias/Venv/thesis/lib/python3.7/site-packages/ipykernel_launcher.py:23: UserWarning: Matplotlib is currently using module://ipykernel.pylab.backend_inline, which is a non-GUI backend, so cannot show the figure.\n"
     ]
    },
    {
     "data": {
      "text/plain": "<Figure size 720x576 with 3 Axes>",
      "image/png": "[encoded data removed]"
     },
     "metadata": {
      "needs_background": "light"
     },
     "output_type": "display_data"
    }
   ],
   "source": [
    "full_data = {\n",
    "    '2': {'B': dfb1[[\"acc\"]].T.values[0],\n",
    "          'R': dfr1[[\"acc\"]].T.values[0]},\n",
    "    '5': {'B': dfb2[[\"acc\"]].T.values[0],\n",
    "          'R': dfr2[[\"acc\"]].T.values[0]},\n",
    "    '10': {'B': dfb3[[\"acc\"]].T.values[0],\n",
    "           'R': dfr3[[\"acc\"]].T.values[0]}\n",
    "}\n",
    "\n",
    "fig = plt.figure(figsize=(10, 8))\n",
    "fig.text(0.5, 0.04, \"Input length (seconds)\", ha=\"center\", va=\"center\")\n",
    "fig.text(0.05, 0.5, \"Accuracy\", ha=\"center\", va=\"center\", rotation=90)\n",
    "outer = gridspec.GridSpec(1, 3, wspace=0.2, hspace=0.2)\n",
    "for i, name in zip([0, 1, 2], ['2', '5', '10']):\n",
    "    ax = plt.Subplot(fig, outer[i])\n",
    "    ax.boxplot([full_data[name][item] for item in ['B', 'R']])\n",
    "    ax.set(xticklabels=['Baseline', 'Recurrent'], xlabel=name)\n",
    "    ax.margins(0.05)\n",
    "    ax.set_ylim([0.5, 1])\n",
    "    ax.set_yticks(np.arange(0.5, 1.05, 0.05))\n",
    "    fig.add_subplot(ax)\n",
    "fig.show()\n",
    "fig.savefig(\"plots/base_recurrent_comparison.svg\", format=\"svg\")"
   ]
  },
  {
   "cell_type": "markdown",
   "metadata": {
    "pycharm": {
     "name": "#%% md\n"
    }
   },
   "source": [
    "## Effect of frequency bands\n",
    "Plot the boxplots of the accuracies of the different bands. This code can be running the evaluation for the 2 second model with the full frequency, delta band, theta band and delta+theta band."
   ]
  },
  {
   "cell_type": "code",
   "execution_count": 10,
   "outputs": [
    {
     "data": {
      "text/plain": "<Figure size 432x288 with 1 Axes>",
      "image/png": "[encoded data removed]"
     },
     "metadata": {
      "needs_background": "light"
     },
     "output_type": "display_data"
    }
   ],
   "source": [
    "with open(os.path.join(root, \"output\", \"evaluation_128_full.json\")) as fp:\n",
    "    df1 = pandas.read_json(fp).T\n",
    "with open(os.path.join(root, \"output\", \"evaluation_128_delta.json\")) as fp:\n",
    "    df2 = pandas.read_json(fp).T\n",
    "with open(os.path.join(root, \"output\", \"evaluation_128_theta.json\")) as fp:\n",
    "    df3 = pandas.read_json(fp).T\n",
    "with open(os.path.join(root, \"output\", \"evaluation_128_delta_theta.json\")) as fp:\n",
    "    df4 = pandas.read_json(fp).T\n",
    "\n",
    "fig = plt.figure()\n",
    "plt.grid(color='black', linestyle=':', linewidth=1)\n",
    "plt.boxplot([df1[[\"acc\"]].T.values[0], df2[[\"acc\"]].T.values[0], df3[[\"acc\"]].T.values[0], df4[[\"acc\"]].T.values[0]])\n",
    "plt.ylim([0.5,1])\n",
    "plt.ylabel(\"Accuracy\")\n",
    "plt.xlabel(\"Frequency Band\")\n",
    "plt.xticks([1, 2, 3, 4], [\"Full\", \"Delta\", \"Theta\", \"Delta+Theta\"])\n",
    "plt.show()\n",
    "fig.savefig(\"plots/delta_theta_performance.svg\", format=\"svg\")"
   ],
   "metadata": {
    "collapsed": false,
    "pycharm": {
     "name": "#%%\n"
    }
   }
  }
 ],
 "metadata": {
  "kernelspec": {
   "display_name": "Python 3",
   "language": "python",
   "name": "python3"
  },
  "language_info": {
   "codemirror_mode": {
    "name": "ipython",
    "version": 3
   },
   "file_extension": ".py",
   "mimetype": "text/x-python",
   "name": "python",
   "nbconvert_exporter": "python",
   "pygments_lexer": "ipython3",
   "version": "3.7.5"
  }
 },
 "nbformat": 4,
 "nbformat_minor": 1
}